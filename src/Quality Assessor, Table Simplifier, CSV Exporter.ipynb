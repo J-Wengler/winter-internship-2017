{
 "cells": [
  {
   "cell_type": "code",
   "execution_count": 2,
   "metadata": {
    "collapsed": true
   },
   "outputs": [],
   "source": [
    "%matplotlib inline\n",
    "import pandas as pd\n",
    "import seaborn as sns\n",
    "import numpy as np"
   ]
  },
  {
   "cell_type": "code",
   "execution_count": 3,
   "metadata": {
    "collapsed": false
   },
   "outputs": [],
   "source": [
    "# Import raw counts from the original file and return the endpoint to get only the raw counts\n",
    "alzDat = pd.read_table('RNA_Seq_AD.txt')\n",
    "for i in range(alzDat.shape[1]):\n",
    "    if list(alzDat)[i].endswith('rpkm'):\n",
    "        endPoint = i\n",
    "        break\n",
    "\n",
    "# Set the file and round the float number to the nearest integer\n",
    "alzDat = alzDat.ix[:, 1:endPoint].round()"
   ]
  },
  {
   "cell_type": "code",
   "execution_count": 4,
   "metadata": {
    "collapsed": false
   },
   "outputs": [],
   "source": [
    "# import math\n",
    "# sns.distplot(alzDat['C1_raw'], kde=False, bins=1000)"
   ]
  },
  {
   "cell_type": "code",
   "execution_count": 5,
   "metadata": {
    "collapsed": false
   },
   "outputs": [],
   "source": [
    "# sns.boxplot(data=np.log(alzDat.ix[:, 1:] + 1))"
   ]
  },
  {
   "cell_type": "code",
   "execution_count": 9,
   "metadata": {
    "collapsed": false
   },
   "outputs": [],
   "source": [
    "# Convert the float numbers to 'int' type\n",
    "alzDat.ix[:, 1:] = alzDat.ix[:, 1:].astype(int)"
   ]
  },
  {
   "cell_type": "code",
   "execution_count": 7,
   "metadata": {
    "collapsed": false
   },
   "outputs": [
    {
     "name": "stdout",
     "output_type": "stream",
     "text": [
      "(18611, 18)\n",
      "(19185, 18)\n"
     ]
    }
   ],
   "source": [
    "# Filter the raw counts and exlcude those with low read counts\n",
    "filtAlzDat = alzDat[alzDat.sum(axis=1) > 0]\n",
    "print(filtAlzDat.shape)\n",
    "print(alzDat.shape)"
   ]
  },
  {
   "cell_type": "code",
   "execution_count": 8,
   "metadata": {
    "collapsed": false
   },
   "outputs": [],
   "source": [
    "# Export the csv file and save it as csv file\n",
    "filtAlzDat.to_csv('alzOut.txt', sep='\\t')"
   ]
  }
 ],
 "metadata": {
  "kernelspec": {
   "display_name": "Python 3",
   "language": "python",
   "name": "python3"
  },
  "language_info": {
   "codemirror_mode": {
    "name": "ipython",
    "version": 3
   },
   "file_extension": ".py",
   "mimetype": "text/x-python",
   "name": "python",
   "nbconvert_exporter": "python",
   "pygments_lexer": "ipython3",
   "version": "3.4.3"
  }
 },
 "nbformat": 4,
 "nbformat_minor": 1
}
