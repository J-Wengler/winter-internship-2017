{
 "cells": [
  {
   "cell_type": "code",
   "execution_count": 45,
   "metadata": {
    "collapsed": false
   },
   "outputs": [
    {
     "name": "stdout",
     "output_type": "stream",
     "text": [
      "            EnsemblID  symbol      C_0002      C_0003      C_0004      C_0005  \\\n",
      "0  ENSG00000000003.10  TSPAN6  304.209461  294.583928  244.632298  215.822826   \n",
      "1   ENSG00000000005.5    TNMD    0.733035    2.283596    6.961082    2.480722   \n",
      "2   ENSG00000000419.8    DPM1  571.034146  545.779526  563.847615  586.442713   \n",
      "\n",
      "       C_0006      C_0008      C_0009      C_0010    ...         P_0130  \\\n",
      "0  218.135859  270.894412  135.680801  243.520223    ...     603.878818   \n",
      "1    3.718225    7.739840    1.244778    8.117341    ...       2.451470   \n",
      "2  417.680594  611.447386  614.920327  553.332063    ...     885.797887   \n",
      "\n",
      "       P_0132      P_0133      P_0134      P_0135      P_0136    baseMean  \\\n",
      "0  394.642277  312.918199  293.748860  581.370505  879.554681  350.414865   \n",
      "1    2.013481    7.126501    0.000000    0.000000    2.855697    4.589007   \n",
      "2  805.392402  956.246919  908.414104  854.956626  637.772334  696.910336   \n",
      "\n",
      "   contExpMean  parExpMean    foldCh  \n",
      "0   325.515392  388.193376  1.192550  \n",
      "1     5.546770    3.135849  0.565347  \n",
      "2   740.928471  630.124199  0.850452  \n",
      "\n",
      "[3 rows x 79 columns]\n"
     ]
    }
   ],
   "source": [
    "import pandas as pd\n",
    "import numpy as np\n",
    "\n",
    "\n",
    "def foldChange(diseased, control):\n",
    "    return diseased/control\n",
    "\n",
    "dat = pd.read_table('test.txt', sep='\\t')\n",
    "\n",
    "controls = []\n",
    "parkinsons = []\n",
    "columns = list(dat)\n",
    "for column in columns:\n",
    "    if column.startswith('C_'):\n",
    "        controls.append(column)\n",
    "    elif column.startswith('P_'):\n",
    "        parkinsons.append(column)\n",
    "\n",
    "baseMean = []\n",
    "contExpMeans = []\n",
    "parExpMeans = []\n",
    "foldChanges = []\n",
    "\n",
    "for i in range(len(dat.index)):\n",
    "    mean = np.mean(dat.ix[i,2:])\n",
    "    contExpMean = np.mean(dat[controls].ix[i,:])\n",
    "    parExpMean = np.mean(dat[parkinsons].ix[i,:])\n",
    "    foldCh = foldChange(parExpMean, contExpMean)\n",
    "    foldChanges.append(foldCh)\n",
    "    parExpMeans.append(parExpMean)\n",
    "    contExpMeans.append(contExpMean)\n",
    "    baseMean.append(mean)\n",
    "    \n",
    "\n",
    "        \n",
    "dat['baseMean'] = baseMean\n",
    "dat['contExpMean'] = contExpMeans\n",
    "dat['parExpMean'] = parExpMeans\n",
    "dat['foldCh'] = foldChanges\n",
    "\n",
    "print(dat)"
   ]
  },
  {
   "cell_type": "code",
   "execution_count": 43,
   "metadata": {
    "collapsed": false
   },
   "outputs": [
    {
     "name": "stdout",
     "output_type": "stream",
     "text": [
      "['P_0003', 'P_0006', 'P_0013', 'P_0014', 'P_0015', 'P_0016', 'P_0018', 'P_0019', 'P_0020', 'P_0021', 'P_0022', 'P_0023', 'P_0026', 'P_0027', 'P_0028', 'P_0029', 'P_0030', 'P_0031', 'P_0033', 'P_0012', 'P_0034', 'P_0063', 'P_0126', 'P_0130', 'P_0132', 'P_0133', 'P_0134', 'P_0135', 'P_0136']\n"
     ]
    }
   ],
   "source": [
    "print(parkinsons)"
   ]
  }
 ],
 "metadata": {
  "anaconda-cloud": {},
  "kernelspec": {
   "display_name": "Python [default]",
   "language": "python",
   "name": "python3"
  },
  "language_info": {
   "codemirror_mode": {
    "name": "ipython",
    "version": 3
   },
   "file_extension": ".py",
   "mimetype": "text/x-python",
   "name": "python",
   "nbconvert_exporter": "python",
   "pygments_lexer": "ipython3",
   "version": "3.5.2"
  }
 },
 "nbformat": 4,
 "nbformat_minor": 1
}
