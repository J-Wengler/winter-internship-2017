{
 "cells": [
  {
   "cell_type": "code",
   "execution_count": 72,
   "metadata": {
    "collapsed": false
   },
   "outputs": [
    {
     "name": "stdout",
     "output_type": "stream",
     "text": [
      "            EnsemblID   genes    baseMean  contExpMean  parExpMean    foldCh  \\\n",
      "0  ENSG00000000003.10  TSPAN6  350.414865   325.515392  388.193376  1.192550   \n",
      "1   ENSG00000000005.5    TNMD    4.589007     5.546770    3.135849  0.565347   \n",
      "2   ENSG00000000419.8    DPM1  696.910336   740.928471  630.124199  0.850452   \n",
      "\n",
      "    log2fCh  \n",
      "0  0.254050  \n",
      "1 -0.822792  \n",
      "2 -0.233698  \n"
     ]
    }
   ],
   "source": [
    "import pandas as pd\n",
    "import numpy as np\n",
    "import math\n",
    "\n",
    "def foldChange(diseased, control):\n",
    "    return diseased/control\n",
    "\n",
    "def log2foldChange(foldChange):\n",
    "    return math.log(foldChange, 2)\n",
    "\n",
    "dat = pd.read_table('test.txt', sep='\\t')\n",
    "\n",
    "controls = []\n",
    "parkinsons = []\n",
    "columns = list(dat)\n",
    "for column in columns:\n",
    "    if column.startswith('C_'):\n",
    "        controls.append(column)\n",
    "    elif column.startswith('P_'):\n",
    "        parkinsons.append(column)\n",
    "\n",
    "baseMean = []\n",
    "contExpMeans = []\n",
    "parExpMeans = []\n",
    "foldChanges = []\n",
    "log2foldChanges = []\n",
    "\n",
    "for i in range(len(dat.index)):\n",
    "    mean = np.mean(dat.ix[i,2:])\n",
    "    contExpMean = np.mean(dat[controls].ix[i,:])\n",
    "    parExpMean = np.mean(dat[parkinsons].ix[i,:])\n",
    "    foldCh = foldChange(parExpMean, contExpMean)\n",
    "    log2foldCh = log2foldChange(foldCh)\n",
    "    log2foldChanges.append(log2foldCh)\n",
    "    foldChanges.append(foldCh)\n",
    "    parExpMeans.append(parExpMean)\n",
    "    contExpMeans.append(contExpMean)\n",
    "    baseMean.append(mean)\n",
    "\n",
    "    \n",
    "\n",
    "out = {'EnsemblID':dat['EnsemblID'],\n",
    "       'genes': dat['symbol'],\n",
    "      'baseMean': baseMean,\n",
    "      'contExpMean': contExpMeans,\n",
    "      'parExpMean': parExpMeans,\n",
    "      'foldCh': foldChanges,\n",
    "      'log2fCh': log2foldChanges}\n",
    "\n",
    "outDF = pd.DataFrame(out, columns=['EnsemblID', 'genes', 'baseMean', 'contExpMean', 'parExpMean', 'foldCh', 'log2fCh'])\n",
    "\n",
    "print(outDF)"
   ]
  },
  {
   "cell_type": "code",
   "execution_count": 54,
   "metadata": {
    "collapsed": false
   },
   "outputs": [
    {
     "name": "stdout",
     "output_type": "stream",
     "text": [
      "0    TSPAN6\n",
      "1      TNMD\n",
      "2      DPM1\n",
      "Name: symbol, dtype: object\n"
     ]
    }
   ],
   "source": [
    "print()"
   ]
  }
 ],
 "metadata": {
  "anaconda-cloud": {},
  "kernelspec": {
   "display_name": "Python [default]",
   "language": "python",
   "name": "python3"
  },
  "language_info": {
   "codemirror_mode": {
    "name": "ipython",
    "version": 3
   },
   "file_extension": ".py",
   "mimetype": "text/x-python",
   "name": "python",
   "nbconvert_exporter": "python",
   "pygments_lexer": "ipython3",
   "version": "3.5.2"
  }
 },
 "nbformat": 4,
 "nbformat_minor": 1
}
