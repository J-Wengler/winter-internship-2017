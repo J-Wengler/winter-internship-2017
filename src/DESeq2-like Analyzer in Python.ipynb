{
 "cells": [
  {
   "cell_type": "code",
   "execution_count": null,
   "metadata": {
    "collapsed": true
   },
   "outputs": [],
   "source": [
    "import pandas as pd\n",
    "import numpy as np\n",
    "from scipy import stats\n",
    "import math\n",
    "\n",
    "def foldChange(diseased, control):\n",
    "    return diseased/control\n",
    "\n",
    "def log2foldChange(foldChange):\n",
    "    return math.log(foldChange, 2)\n",
    "\n",
    "dat = pd.read_table('test2.txt', sep='\\t')\n",
    "\n",
    "controls = []\n",
    "parkinsons = []\n",
    "columns = list(dat)\n",
    "for column in columns:\n",
    "    if column.startswith('C_'):\n",
    "        controls.append(column)\n",
    "    elif column.startswith('P_'):\n",
    "        parkinsons.append(column)\n",
    "\n",
    "baseMean = []\n",
    "contExpMeans = []\n",
    "parExpMeans = []\n",
    "foldChanges = []\n",
    "log2foldChanges = []\n",
    "contStdErrors = []\n",
    "parStdErrors = []\n",
    "\n",
    "for i in range(len(dat.index)):\n",
    "    mean = np.mean(dat.ix[i,2:])\n",
    "    contExpMean = np.mean(dat[controls].ix[i,:])\n",
    "    parExpMean = np.mean(dat[parkinsons].ix[i,:])\n",
    "    foldCh = foldChange(parExpMean, contExpMean)\n",
    "    log2foldCh = log2foldChange(foldCh)\n",
    "    contStdErr = stats.sem(dat[controls].ix[i,:])\n",
    "    parStdErr = stats.sem(dat[parkinsons].ix[i,:])\n",
    "    contStdErrors.append(contStdErr)\n",
    "    parStdErrors.append(parStdErr)\n",
    "    log2foldChanges.append(log2foldCh)\n",
    "    foldChanges.append(foldCh)\n",
    "    parExpMeans.append(parExpMean)\n",
    "    contExpMeans.append(contExpMean)\n",
    "    baseMean.append(mean)\n",
    "\n",
    "    \n",
    "\n",
    "out = {'EnsemblID':dat['EnsemblID'],\n",
    "       'genes': dat['symbol'],\n",
    "      'baseMean': baseMean,\n",
    "      'contExpMean': contExpMeans,\n",
    "      'parExpMean': parExpMeans,\n",
    "      'foldCh': foldChanges,\n",
    "      'log2fCh': log2foldChanges,\n",
    "      'contSE': contStdErrors,\n",
    "      'parSE': parStdErrors}\n",
    "\n",
    "outDF = pd.DataFrame(out, columns=['EnsemblID', 'genes', 'baseMean', 'contExpMean', 'parExpMean', 'foldCh', 'log2fCh',\n",
    "                                  'contSE', 'parSE'])\n",
    "sortedOut = outDF.sort_values(by='foldCh', ascending=False)\n",
    "\n",
    "#sortedOut.to_csv('parkOut.txt', sep='\\t')"
   ]
  }
 ],
 "metadata": {
  "kernelspec": {
   "display_name": "Python 3",
   "language": "python",
   "name": "python3"
  },
  "language_info": {
   "codemirror_mode": {
    "name": "ipython",
    "version": 3
   },
   "file_extension": ".py",
   "mimetype": "text/x-python",
   "name": "python",
   "nbconvert_exporter": "python",
   "pygments_lexer": "ipython3",
   "version": "3.4.3"
  }
 },
 "nbformat": 4,
 "nbformat_minor": 1
}
