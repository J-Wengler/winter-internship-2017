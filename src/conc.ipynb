{
 "cells": [
  {
   "cell_type": "markdown",
   "metadata": {},
   "source": [
    "This code was used to concatenate all the samples file to one file, using ES_2050 expression as teh starter file."
   ]
  },
  {
   "cell_type": "code",
   "execution_count": 49,
   "metadata": {
    "collapsed": false
   },
   "outputs": [
    {
     "name": "stdout",
     "output_type": "stream",
     "text": [
      "              #Gene_ID  ES2050  ES569  ES2483  ES2162  ES2329  ES2431  ES2160  \\\n",
      "60336  ENSG00000224240       0      0       0       0       0       0       0   \n",
      "60337  ENSG00000227629       0      0       0       0       0       0       0   \n",
      "60338  ENSG00000237917       1      1       3       0       0       2       0   \n",
      "60339  ENSG00000231514       1      0       1       0       0       0       0   \n",
      "60340  ENSG00000235857       0      0       0       0       0       0       0   \n",
      "\n",
      "       ES2076  ES568  ES566  ES567  ES2484  ES2341  ES2049  \n",
      "60336       0      0      0      0       0       0       0  \n",
      "60337       0      0      0      0       0       0       0  \n",
      "60338       1      0      1      1       1       1       1  \n",
      "60339       0      0      0      0       1       0       0  \n",
      "60340       0      0      0      0       0       0       0  \n"
     ]
    }
   ],
   "source": [
    "import os\n",
    "\n",
    "starter = 'ES_2050_expression.txt'\n",
    "data = pd.read_table(starter)\n",
    "data = data.drop(data.columns[[1, 2]], axis=1)\n",
    "data[''.join(starter.split('_')[0:2])] = data['Reads']\n",
    "\n",
    "filenames = []\n",
    "for file in os.listdir():\n",
    "    if file.startswith(\"ES\"):\n",
    "        filenames.append(file)\n",
    "\n",
    "for filename in filenames:\n",
    "    newTab = pd.read_table(filename)['Reads']\n",
    "    filename = ''.join(filename.split('_')[0:2])\n",
    "    data[filename] = newTab\n",
    "    #print(filename)\n",
    "\n",
    "data = data.drop(data.columns[[1]], axis=1)\n",
    "\n",
    "data.to_csv('output.tsv', sep='\\t')"
   ]
  }
 ],
 "metadata": {
  "anaconda-cloud": {},
  "kernelspec": {
   "display_name": "Python [default]",
   "language": "python",
   "name": "python3"
  },
  "language_info": {
   "codemirror_mode": {
    "name": "ipython",
    "version": 3
   },
   "file_extension": ".py",
   "mimetype": "text/x-python",
   "name": "python",
   "nbconvert_exporter": "python",
   "pygments_lexer": "ipython3",
   "version": "3.5.2"
  }
 },
 "nbformat": 4,
 "nbformat_minor": 1
}
